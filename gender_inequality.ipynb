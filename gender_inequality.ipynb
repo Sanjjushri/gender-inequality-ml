{
 "cells": [
  {
   "cell_type": "code",
   "execution_count": 131,
   "id": "6293f851-aaf6-4b3b-8477-0dc8f1f698cf",
   "metadata": {},
   "outputs": [],
   "source": [
    "import pandas as pd\n",
    "import pickle"
   ]
  },
  {
   "cell_type": "code",
   "execution_count": 132,
   "id": "ed0a639b-c1b5-46a7-879d-db066e856749",
   "metadata": {},
   "outputs": [],
   "source": [
    "from sklearn.model_selection import train_test_split"
   ]
  },
  {
   "cell_type": "code",
   "execution_count": 116,
   "id": "c17d4f09-6428-4d1d-b7c1-77b3b2a0b831",
   "metadata": {},
   "outputs": [],
   "source": [
    "# data = pd.read_csv(\"datasets/gender_inequality.csv\")\n",
    "data = pd.read_csv(\"datasets/cleaned_gender_inequality.csv\")"
   ]
  },
  {
   "cell_type": "code",
   "execution_count": 117,
   "id": "b054e488-8d3b-4f1e-b94a-3d89fd3c000b",
   "metadata": {},
   "outputs": [
    {
     "data": {
      "text/plain": [
       "(155, 10)"
      ]
     },
     "execution_count": 117,
     "metadata": {},
     "output_type": "execute_result"
    }
   ],
   "source": [
    "data.shape"
   ]
  },
  {
   "cell_type": "code",
   "execution_count": 118,
   "id": "6f4df093-70dd-452f-b711-58d107ff044b",
   "metadata": {},
   "outputs": [
    {
     "data": {
      "text/plain": [
       "GII Rank                                        0\n",
       "Country                                         0\n",
       "Gender Inequality Index (GII)                   0\n",
       "Maternal Mortality Ratio                        0\n",
       "Adolescent Birth Rate                           0\n",
       "Percent Representation in Parliament            0\n",
       "Population with Secondary Education (Female)    0\n",
       "Population with Secondary Education (Male)      0\n",
       "Labour Force Participation Rate (Female)        0\n",
       "Labour Force Participation Rate (Male)          0\n",
       "dtype: int64"
      ]
     },
     "execution_count": 118,
     "metadata": {},
     "output_type": "execute_result"
    }
   ],
   "source": [
    "data.isnull().sum()"
   ]
  },
  {
   "cell_type": "code",
   "execution_count": 109,
   "id": "83d475e9-5773-477c-9a07-8a741988b9cb",
   "metadata": {},
   "outputs": [],
   "source": [
    "# data = data.dropna(how='any',axis=0) "
   ]
  },
  {
   "cell_type": "code",
   "execution_count": 119,
   "id": "b00e0796-d5dd-4f46-b4ba-64af5d22004a",
   "metadata": {},
   "outputs": [
    {
     "data": {
      "text/plain": [
       "0"
      ]
     },
     "execution_count": 119,
     "metadata": {},
     "output_type": "execute_result"
    }
   ],
   "source": [
    "data.isnull().sum().sum()"
   ]
  },
  {
   "cell_type": "code",
   "execution_count": 111,
   "id": "69fd1568-94ee-499a-9e71-cc7876088a01",
   "metadata": {},
   "outputs": [],
   "source": [
    "# data.to_csv(\"datasets/cleaned_gender_inequality.csv\")"
   ]
  },
  {
   "cell_type": "code",
   "execution_count": 112,
   "id": "34abe8b0-e95e-4a15-918f-1ef00358a1fb",
   "metadata": {},
   "outputs": [],
   "source": [
    "# data = pd.read_csv(\"datasets/cleaned_gender_inequality.csv\")"
   ]
  },
  {
   "cell_type": "code",
   "execution_count": 120,
   "id": "116bd37e-daad-44ee-a169-28b9f30c21bc",
   "metadata": {},
   "outputs": [
    {
     "data": {
      "text/html": [
       "<div>\n",
       "<style scoped>\n",
       "    .dataframe tbody tr th:only-of-type {\n",
       "        vertical-align: middle;\n",
       "    }\n",
       "\n",
       "    .dataframe tbody tr th {\n",
       "        vertical-align: top;\n",
       "    }\n",
       "\n",
       "    .dataframe thead th {\n",
       "        text-align: right;\n",
       "    }\n",
       "</style>\n",
       "<table border=\"1\" class=\"dataframe\">\n",
       "  <thead>\n",
       "    <tr style=\"text-align: right;\">\n",
       "      <th></th>\n",
       "      <th>GII Rank</th>\n",
       "      <th>Country</th>\n",
       "      <th>Gender Inequality Index (GII)</th>\n",
       "      <th>Maternal Mortality Ratio</th>\n",
       "      <th>Adolescent Birth Rate</th>\n",
       "      <th>Percent Representation in Parliament</th>\n",
       "      <th>Population with Secondary Education (Female)</th>\n",
       "      <th>Population with Secondary Education (Male)</th>\n",
       "      <th>Labour Force Participation Rate (Female)</th>\n",
       "      <th>Labour Force Participation Rate (Male)</th>\n",
       "    </tr>\n",
       "  </thead>\n",
       "  <tbody>\n",
       "    <tr>\n",
       "      <th>0</th>\n",
       "      <td>1.00</td>\n",
       "      <td>Norway</td>\n",
       "      <td>0.07</td>\n",
       "      <td>4</td>\n",
       "      <td>7.80</td>\n",
       "      <td>39.60</td>\n",
       "      <td>97.40</td>\n",
       "      <td>96.70</td>\n",
       "      <td>61.20</td>\n",
       "      <td>68.70</td>\n",
       "    </tr>\n",
       "    <tr>\n",
       "      <th>1</th>\n",
       "      <td>2.00</td>\n",
       "      <td>Australia</td>\n",
       "      <td>0.11</td>\n",
       "      <td>6</td>\n",
       "      <td>12.10</td>\n",
       "      <td>30.50</td>\n",
       "      <td>94.30</td>\n",
       "      <td>94.60</td>\n",
       "      <td>58.80</td>\n",
       "      <td>71.80</td>\n",
       "    </tr>\n",
       "    <tr>\n",
       "      <th>2</th>\n",
       "      <td>3.00</td>\n",
       "      <td>Switzerland</td>\n",
       "      <td>0.03</td>\n",
       "      <td>6</td>\n",
       "      <td>1.90</td>\n",
       "      <td>28.50</td>\n",
       "      <td>95.00</td>\n",
       "      <td>96.60</td>\n",
       "      <td>61.80</td>\n",
       "      <td>74.90</td>\n",
       "    </tr>\n",
       "    <tr>\n",
       "      <th>3</th>\n",
       "      <td>4.00</td>\n",
       "      <td>Denmark</td>\n",
       "      <td>0.05</td>\n",
       "      <td>5</td>\n",
       "      <td>5.10</td>\n",
       "      <td>38.00</td>\n",
       "      <td>95.50</td>\n",
       "      <td>96.60</td>\n",
       "      <td>58.70</td>\n",
       "      <td>66.40</td>\n",
       "    </tr>\n",
       "    <tr>\n",
       "      <th>4</th>\n",
       "      <td>5.00</td>\n",
       "      <td>Netherlands</td>\n",
       "      <td>0.06</td>\n",
       "      <td>6</td>\n",
       "      <td>6.20</td>\n",
       "      <td>36.90</td>\n",
       "      <td>87.70</td>\n",
       "      <td>90.50</td>\n",
       "      <td>58.50</td>\n",
       "      <td>70.60</td>\n",
       "    </tr>\n",
       "  </tbody>\n",
       "</table>\n",
       "</div>"
      ],
      "text/plain": [
       "   GII Rank      Country  Gender Inequality Index (GII)  \\\n",
       "0      1.00       Norway                           0.07   \n",
       "1      2.00    Australia                           0.11   \n",
       "2      3.00  Switzerland                           0.03   \n",
       "3      4.00      Denmark                           0.05   \n",
       "4      5.00  Netherlands                           0.06   \n",
       "\n",
       "   Maternal Mortality Ratio  Adolescent Birth Rate  \\\n",
       "0                         4                   7.80   \n",
       "1                         6                  12.10   \n",
       "2                         6                   1.90   \n",
       "3                         5                   5.10   \n",
       "4                         6                   6.20   \n",
       "\n",
       "   Percent Representation in Parliament  \\\n",
       "0                                 39.60   \n",
       "1                                 30.50   \n",
       "2                                 28.50   \n",
       "3                                 38.00   \n",
       "4                                 36.90   \n",
       "\n",
       "   Population with Secondary Education (Female)  \\\n",
       "0                                         97.40   \n",
       "1                                         94.30   \n",
       "2                                         95.00   \n",
       "3                                         95.50   \n",
       "4                                         87.70   \n",
       "\n",
       "   Population with Secondary Education (Male)  \\\n",
       "0                                       96.70   \n",
       "1                                       94.60   \n",
       "2                                       96.60   \n",
       "3                                       96.60   \n",
       "4                                       90.50   \n",
       "\n",
       "   Labour Force Participation Rate (Female)  \\\n",
       "0                                     61.20   \n",
       "1                                     58.80   \n",
       "2                                     61.80   \n",
       "3                                     58.70   \n",
       "4                                     58.50   \n",
       "\n",
       "   Labour Force Participation Rate (Male)  \n",
       "0                                   68.70  \n",
       "1                                   71.80  \n",
       "2                                   74.90  \n",
       "3                                   66.40  \n",
       "4                                   70.60  "
      ]
     },
     "execution_count": 120,
     "metadata": {},
     "output_type": "execute_result"
    }
   ],
   "source": [
    "data.head()"
   ]
  },
  {
   "cell_type": "code",
   "execution_count": 121,
   "id": "199daeed-ff21-4a6c-8e28-5d37e8a852bb",
   "metadata": {},
   "outputs": [
    {
     "data": {
      "text/plain": [
       "(155, 10)"
      ]
     },
     "execution_count": 121,
     "metadata": {},
     "output_type": "execute_result"
    }
   ],
   "source": [
    "data.shape"
   ]
  },
  {
   "cell_type": "code",
   "execution_count": 122,
   "id": "0b0171fd-45b9-4129-905e-e80c4af4e758",
   "metadata": {},
   "outputs": [
    {
     "data": {
      "text/plain": [
       "Index(['GII Rank', 'Country', 'Gender Inequality Index (GII)',\n",
       "       'Maternal Mortality Ratio', 'Adolescent Birth Rate',\n",
       "       'Percent Representation in Parliament',\n",
       "       'Population with Secondary Education (Female)',\n",
       "       'Population with Secondary Education (Male)',\n",
       "       'Labour Force Participation Rate (Female)',\n",
       "       'Labour Force Participation Rate (Male)'],\n",
       "      dtype='object')"
      ]
     },
     "execution_count": 122,
     "metadata": {},
     "output_type": "execute_result"
    }
   ],
   "source": [
    "data.columns"
   ]
  },
  {
   "cell_type": "code",
   "execution_count": 123,
   "id": "dc08d5d4-80ba-4a6b-982d-55c999d0d1d8",
   "metadata": {},
   "outputs": [],
   "source": [
    "from sklearn.preprocessing import LabelEncoder"
   ]
  },
  {
   "cell_type": "code",
   "execution_count": 124,
   "id": "bee95434-3006-4d5c-b920-6349a05df84f",
   "metadata": {},
   "outputs": [],
   "source": [
    "labelencoder = LabelEncoder()"
   ]
  },
  {
   "cell_type": "code",
   "execution_count": 125,
   "id": "234d534b-51a0-4547-9cae-0bb397b81f4a",
   "metadata": {},
   "outputs": [],
   "source": [
    "data[\"Country\"] = labelencoder.fit_transform(data[\"Country\"])"
   ]
  },
  {
   "cell_type": "code",
   "execution_count": 126,
   "id": "2b8d93d0-59ff-4bc4-89f1-7001a59a0926",
   "metadata": {},
   "outputs": [
    {
     "data": {
      "text/plain": [
       "0      104\n",
       "1        5\n",
       "2      133\n",
       "3       40\n",
       "4      100\n",
       "      ... \n",
       "150     22\n",
       "151     23\n",
       "152     28\n",
       "153     27\n",
       "154    103\n",
       "Name: Country, Length: 155, dtype: int64"
      ]
     },
     "execution_count": 126,
     "metadata": {},
     "output_type": "execute_result"
    }
   ],
   "source": [
    "data[\"Country\"]"
   ]
  },
  {
   "cell_type": "code",
   "execution_count": 127,
   "id": "9d5f0a62-b7ee-4afc-a683-beba29826795",
   "metadata": {},
   "outputs": [],
   "source": [
    "X = data.drop(['Gender Inequality Index (GII)'], axis = 1)\n",
    "y = data['Gender Inequality Index (GII)']"
   ]
  },
  {
   "cell_type": "code",
   "execution_count": 128,
   "id": "591d83e6-c786-4acd-a0b4-c8da3d32332f",
   "metadata": {},
   "outputs": [],
   "source": [
    "X_train, X_test, y_train, y_test = train_test_split(X, y,test_size=.2,random_state =123)"
   ]
  },
  {
   "cell_type": "code",
   "execution_count": 129,
   "id": "85343902-9f9f-429a-a7c6-3c093b005000",
   "metadata": {},
   "outputs": [],
   "source": [
    "from sklearn.linear_model import LinearRegression"
   ]
  },
  {
   "cell_type": "code",
   "execution_count": 130,
   "id": "b99309cb-d179-4000-b672-40d0ff706455",
   "metadata": {},
   "outputs": [
    {
     "name": "stdout",
     "output_type": "stream",
     "text": [
      "0.9272072153117361\n"
     ]
    }
   ],
   "source": [
    "regr = LinearRegression()\n",
    "  \n",
    "regr.fit(X_train, y_train)\n",
    "print(regr.score(X_test, y_test))"
   ]
  },
  {
   "cell_type": "code",
   "execution_count": 135,
   "id": "5df1e58f-0a5a-4201-8626-8336ec5f54ff",
   "metadata": {},
   "outputs": [],
   "source": [
    "# dump pickle\n",
    "pickle.dump(reg, open('model_reg.pkl', 'wb'))"
   ]
  },
  {
   "cell_type": "code",
   "execution_count": 136,
   "id": "7b2252f0-7346-40ba-90cc-219c469a6005",
   "metadata": {},
   "outputs": [],
   "source": [
    "# load the dump\n",
    "clf_pkl = pickle.load(open('model_reg.pkl', 'rb'))"
   ]
  },
  {
   "cell_type": "code",
   "execution_count": 138,
   "id": "3012231f-9a52-46be-bc7b-37ff1a134687",
   "metadata": {},
   "outputs": [],
   "source": [
    "# dump pickle encoder\n",
    "pickle.dump(labelencoder, open('label_encoder.pkl', 'wb'))"
   ]
  },
  {
   "cell_type": "code",
   "execution_count": null,
   "id": "6483c307-27f4-4c3d-8a2b-a5ec256ae43e",
   "metadata": {},
   "outputs": [],
   "source": []
  }
 ],
 "metadata": {
  "kernelspec": {
   "display_name": "Python 3 (ipykernel)",
   "language": "python",
   "name": "python3"
  },
  "language_info": {
   "codemirror_mode": {
    "name": "ipython",
    "version": 3
   },
   "file_extension": ".py",
   "mimetype": "text/x-python",
   "name": "python",
   "nbconvert_exporter": "python",
   "pygments_lexer": "ipython3",
   "version": "3.8.12"
  }
 },
 "nbformat": 4,
 "nbformat_minor": 5
}
